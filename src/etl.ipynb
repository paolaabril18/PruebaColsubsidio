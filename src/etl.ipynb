{
 "cells": [
  {
   "cell_type": "markdown",
   "metadata": {},
   "source": [
    "# Importar librerías"
   ]
  },
  {
   "cell_type": "code",
   "execution_count": 142,
   "metadata": {},
   "outputs": [],
   "source": [
    "import pandas as pd\n",
    "from db_config import engine"
   ]
  },
  {
   "cell_type": "markdown",
   "metadata": {},
   "source": [
    "# Extracción"
   ]
  },
  {
   "cell_type": "code",
   "execution_count": 143,
   "metadata": {},
   "outputs": [],
   "source": [
    "query_base_general = \"SELECT * FROM base_general\"\n",
    "df_base_general = pd.read_sql(query_base_general, engine)"
   ]
  },
  {
   "cell_type": "code",
   "execution_count": 144,
   "metadata": {},
   "outputs": [],
   "source": [
    "query_localidad = \"SELECT * FROM localidad\"\n",
    "df_localidad = pd.read_sql(query_localidad, engine)"
   ]
  },
  {
   "cell_type": "code",
   "execution_count": 145,
   "metadata": {},
   "outputs": [
    {
     "data": {
      "text/html": [
       "<div>\n",
       "<style scoped>\n",
       "    .dataframe tbody tr th:only-of-type {\n",
       "        vertical-align: middle;\n",
       "    }\n",
       "\n",
       "    .dataframe tbody tr th {\n",
       "        vertical-align: top;\n",
       "    }\n",
       "\n",
       "    .dataframe thead th {\n",
       "        text-align: right;\n",
       "    }\n",
       "</style>\n",
       "<table border=\"1\" class=\"dataframe\">\n",
       "  <thead>\n",
       "    <tr style=\"text-align: right;\">\n",
       "      <th></th>\n",
       "      <th>id_persona</th>\n",
       "      <th>localidad</th>\n",
       "      <th>barrio</th>\n",
       "      <th>departamento</th>\n",
       "    </tr>\n",
       "  </thead>\n",
       "  <tbody>\n",
       "    <tr>\n",
       "      <th>0</th>\n",
       "      <td>CC45557556</td>\n",
       "      <td>CIUDAD BOLIVAR</td>\n",
       "      <td>POTOSI</td>\n",
       "      <td>DISTRITO CAPITAL</td>\n",
       "    </tr>\n",
       "    <tr>\n",
       "      <th>1</th>\n",
       "      <td>CC10001851</td>\n",
       "      <td>SUBA</td>\n",
       "      <td>MAZUREN</td>\n",
       "      <td>DISTRITO CAPITAL</td>\n",
       "    </tr>\n",
       "    <tr>\n",
       "      <th>2</th>\n",
       "      <td>CC1010021417</td>\n",
       "      <td>KENNEDY</td>\n",
       "      <td>TUNDAMA II</td>\n",
       "      <td>DISTRITO CAPITAL</td>\n",
       "    </tr>\n",
       "    <tr>\n",
       "      <th>3</th>\n",
       "      <td>CC1022337888</td>\n",
       "      <td>KENNEDY</td>\n",
       "      <td>TUNDAMA II</td>\n",
       "      <td>DISTRITO CAPITAL</td>\n",
       "    </tr>\n",
       "    <tr>\n",
       "      <th>4</th>\n",
       "      <td>CC1032378916</td>\n",
       "      <td>BOSA</td>\n",
       "      <td>OLARTE</td>\n",
       "      <td>DISTRITO CAPITAL</td>\n",
       "    </tr>\n",
       "  </tbody>\n",
       "</table>\n",
       "</div>"
      ],
      "text/plain": [
       "     id_persona       localidad      barrio      departamento\n",
       "0    CC45557556  CIUDAD BOLIVAR      POTOSI  DISTRITO CAPITAL\n",
       "1    CC10001851            SUBA     MAZUREN  DISTRITO CAPITAL\n",
       "2  CC1010021417         KENNEDY  TUNDAMA II  DISTRITO CAPITAL\n",
       "3  CC1022337888         KENNEDY  TUNDAMA II  DISTRITO CAPITAL\n",
       "4  CC1032378916            BOSA      OLARTE  DISTRITO CAPITAL"
      ]
     },
     "execution_count": 145,
     "metadata": {},
     "output_type": "execute_result"
    }
   ],
   "source": [
    "df_localidad.head()"
   ]
  },
  {
   "cell_type": "code",
   "execution_count": 146,
   "metadata": {},
   "outputs": [
    {
     "data": {
      "text/html": [
       "<div>\n",
       "<style scoped>\n",
       "    .dataframe tbody tr th:only-of-type {\n",
       "        vertical-align: middle;\n",
       "    }\n",
       "\n",
       "    .dataframe tbody tr th {\n",
       "        vertical-align: top;\n",
       "    }\n",
       "\n",
       "    .dataframe thead th {\n",
       "        text-align: right;\n",
       "    }\n",
       "</style>\n",
       "<table border=\"1\" class=\"dataframe\">\n",
       "  <thead>\n",
       "    <tr style=\"text-align: right;\">\n",
       "      <th></th>\n",
       "      <th>id_persona</th>\n",
       "      <th>salario</th>\n",
       "      <th>segmento</th>\n",
       "      <th>grupo_familiar</th>\n",
       "      <th>edad</th>\n",
       "      <th>fecha_nacimiento</th>\n",
       "      <th>tipo_aportante</th>\n",
       "      <th>categoria</th>\n",
       "      <th>tipo_afiliado</th>\n",
       "    </tr>\n",
       "  </thead>\n",
       "  <tbody>\n",
       "    <tr>\n",
       "      <th>0</th>\n",
       "      <td>CC1000000165</td>\n",
       "      <td>781242</td>\n",
       "      <td>Básico</td>\n",
       "      <td>0</td>\n",
       "      <td>20</td>\n",
       "      <td>11/11/1997  12:00:00</td>\n",
       "      <td>1</td>\n",
       "      <td>A</td>\n",
       "      <td>1</td>\n",
       "    </tr>\n",
       "    <tr>\n",
       "      <th>1</th>\n",
       "      <td>CC1000000189</td>\n",
       "      <td>862847</td>\n",
       "      <td>Joven</td>\n",
       "      <td>0</td>\n",
       "      <td>25</td>\n",
       "      <td>11/11/1997  12:00:00</td>\n",
       "      <td>1</td>\n",
       "      <td>A</td>\n",
       "      <td>1</td>\n",
       "    </tr>\n",
       "    <tr>\n",
       "      <th>2</th>\n",
       "      <td>CC1000000210</td>\n",
       "      <td>800000</td>\n",
       "      <td>Básico</td>\n",
       "      <td>2</td>\n",
       "      <td>30</td>\n",
       "      <td>11/11/1997  12:00:00</td>\n",
       "      <td>1</td>\n",
       "      <td>A</td>\n",
       "      <td>1</td>\n",
       "    </tr>\n",
       "    <tr>\n",
       "      <th>3</th>\n",
       "      <td>CC1000000213</td>\n",
       "      <td>781242+.00</td>\n",
       "      <td>Básico</td>\n",
       "      <td>4</td>\n",
       "      <td>25</td>\n",
       "      <td>11/11/1997  12:00:00</td>\n",
       "      <td>1</td>\n",
       "      <td>A</td>\n",
       "      <td>1</td>\n",
       "    </tr>\n",
       "    <tr>\n",
       "      <th>4</th>\n",
       "      <td>CC1000000255</td>\n",
       "      <td>781242+.00</td>\n",
       "      <td>Básico</td>\n",
       "      <td>1</td>\n",
       "      <td>25</td>\n",
       "      <td>11/11/1997  12:00:00</td>\n",
       "      <td>1</td>\n",
       "      <td>A</td>\n",
       "      <td>1</td>\n",
       "    </tr>\n",
       "  </tbody>\n",
       "</table>\n",
       "</div>"
      ],
      "text/plain": [
       "     id_persona     salario segmento  grupo_familiar  edad  \\\n",
       "0  CC1000000165      781242   Básico               0    20   \n",
       "1  CC1000000189      862847    Joven               0    25   \n",
       "2  CC1000000210      800000   Básico               2    30   \n",
       "3  CC1000000213  781242+.00   Básico               4    25   \n",
       "4  CC1000000255  781242+.00   Básico               1    25   \n",
       "\n",
       "        fecha_nacimiento  tipo_aportante categoria tipo_afiliado  \n",
       "0  11/11/1997  12:00:00                1         A             1  \n",
       "1  11/11/1997  12:00:00                1         A             1  \n",
       "2  11/11/1997  12:00:00                1         A             1  \n",
       "3  11/11/1997  12:00:00                1         A             1  \n",
       "4  11/11/1997  12:00:00                1         A             1  "
      ]
     },
     "execution_count": 146,
     "metadata": {},
     "output_type": "execute_result"
    }
   ],
   "source": [
    "df_base_general.head()"
   ]
  },
  {
   "cell_type": "markdown",
   "metadata": {},
   "source": [
    "# Transformación"
   ]
  },
  {
   "cell_type": "markdown",
   "metadata": {},
   "source": [
    "### Calidad de datos:\n"
   ]
  },
  {
   "cell_type": "markdown",
   "metadata": {},
   "source": [
    " Remover duplicados"
   ]
  },
  {
   "cell_type": "code",
   "execution_count": 147,
   "metadata": {},
   "outputs": [
    {
     "name": "stdout",
     "output_type": "stream",
     "text": [
      "Se encontraron 40020 registros duplicados en la base general\n"
     ]
    }
   ],
   "source": [
    "#  Identificación de duplicados en la base general\n",
    "duplicados_base_general = df_base_general[df_base_general.duplicated(subset=['id_persona'], keep=False)]\n",
    "\n",
    "#  Mostrar cantidad de registros duplicados\n",
    "num_duplicados_base_general = duplicados_base_general.shape[0]\n",
    "print(f\"Se encontraron {num_duplicados_base_general} registros duplicados en la base general\")\n",
    "df_base_general = duplicados_base_general.drop_duplicates(subset=['id_persona'], keep='first')"
   ]
  },
  {
   "cell_type": "code",
   "execution_count": 148,
   "metadata": {},
   "outputs": [
    {
     "name": "stdout",
     "output_type": "stream",
     "text": [
      "Se encontraron 83481 registros duplicados en la localidad\n"
     ]
    }
   ],
   "source": [
    "#  Identificación de duplicados en la base general\n",
    "duplicados_localidad = df_localidad[df_localidad.duplicated(subset=['id_persona'], keep=False)]\n",
    "\n",
    "#  Mostrar cantidad de registros duplicados\n",
    "num_duplicados_localidad = duplicados_localidad.shape[0]\n",
    "print(f\"Se encontraron {num_duplicados_localidad} registros duplicados en la localidad\")\n",
    "df_localidad = duplicados_localidad.drop_duplicates(subset=['id_persona'], keep='first')"
   ]
  },
  {
   "cell_type": "markdown",
   "metadata": {},
   "source": [
    "Elimina espacios innecesarios"
   ]
  },
  {
   "cell_type": "code",
   "execution_count": 149,
   "metadata": {},
   "outputs": [
    {
     "name": "stderr",
     "output_type": "stream",
     "text": [
      "/tmp/ipykernel_47084/849203377.py:1: FutureWarning: DataFrame.applymap has been deprecated. Use DataFrame.map instead.\n",
      "  df_localidad = df_localidad.applymap(lambda x: x.strip() if isinstance(x, str) else x)\n",
      "/tmp/ipykernel_47084/849203377.py:2: FutureWarning: DataFrame.applymap has been deprecated. Use DataFrame.map instead.\n",
      "  df_base_general = df_base_general.applymap(lambda x: x.strip() if isinstance(x, str) else x)\n"
     ]
    }
   ],
   "source": [
    "df_localidad = df_localidad.applymap(lambda x: x.strip() if isinstance(x, str) else x)\n",
    "df_base_general = df_base_general.applymap(lambda x: x.strip() if isinstance(x, str) else x)"
   ]
  },
  {
   "cell_type": "markdown",
   "metadata": {},
   "source": [
    "Join por el id_persona"
   ]
  },
  {
   "cell_type": "code",
   "execution_count": 150,
   "metadata": {},
   "outputs": [],
   "source": [
    "df = pd.merge(df_base_general, df_localidad, on='id_persona', how='inner')"
   ]
  },
  {
   "cell_type": "markdown",
   "metadata": {},
   "source": [
    "Definición de campos alfanumericos en id_persona"
   ]
  },
  {
   "cell_type": "code",
   "execution_count": 151,
   "metadata": {},
   "outputs": [
    {
     "data": {
      "text/html": [
       "<div>\n",
       "<style scoped>\n",
       "    .dataframe tbody tr th:only-of-type {\n",
       "        vertical-align: middle;\n",
       "    }\n",
       "\n",
       "    .dataframe tbody tr th {\n",
       "        vertical-align: top;\n",
       "    }\n",
       "\n",
       "    .dataframe thead th {\n",
       "        text-align: right;\n",
       "    }\n",
       "</style>\n",
       "<table border=\"1\" class=\"dataframe\">\n",
       "  <thead>\n",
       "    <tr style=\"text-align: right;\">\n",
       "      <th></th>\n",
       "      <th>id_persona</th>\n",
       "      <th>salario</th>\n",
       "      <th>segmento</th>\n",
       "      <th>grupo_familiar</th>\n",
       "      <th>edad</th>\n",
       "      <th>fecha_nacimiento</th>\n",
       "      <th>tipo_aportante</th>\n",
       "      <th>categoria</th>\n",
       "      <th>tipo_afiliado</th>\n",
       "      <th>localidad</th>\n",
       "      <th>barrio</th>\n",
       "      <th>departamento</th>\n",
       "    </tr>\n",
       "  </thead>\n",
       "  <tbody>\n",
       "    <tr>\n",
       "      <th>0</th>\n",
       "      <td>CC1000004980</td>\n",
       "      <td>1562484</td>\n",
       "      <td>Joven</td>\n",
       "      <td>0</td>\n",
       "      <td>18</td>\n",
       "      <td>11/11/1997  12:00:00</td>\n",
       "      <td>1</td>\n",
       "      <td>A</td>\n",
       "      <td>1</td>\n",
       "      <td>KENNEDY</td>\n",
       "      <td>CARVAJAL</td>\n",
       "      <td>DISTRITO CAPITAL</td>\n",
       "    </tr>\n",
       "    <tr>\n",
       "      <th>1</th>\n",
       "      <td>CC1000005012</td>\n",
       "      <td>1520139</td>\n",
       "      <td>Joven</td>\n",
       "      <td>0</td>\n",
       "      <td>23</td>\n",
       "      <td>11/11/1997  12:00:00</td>\n",
       "      <td>1</td>\n",
       "      <td>A</td>\n",
       "      <td>1</td>\n",
       "      <td>KENNEDY</td>\n",
       "      <td>TIMIZA</td>\n",
       "      <td>DISTRITO CAPITAL</td>\n",
       "    </tr>\n",
       "    <tr>\n",
       "      <th>2</th>\n",
       "      <td>CC1000005204</td>\n",
       "      <td>1562484</td>\n",
       "      <td>Medio</td>\n",
       "      <td>2</td>\n",
       "      <td>30</td>\n",
       "      <td>11/11/1997  12:00:00</td>\n",
       "      <td>1</td>\n",
       "      <td>A</td>\n",
       "      <td>1</td>\n",
       "      <td>CIUDAD BOLIVAR</td>\n",
       "      <td>INDIA CATALINA</td>\n",
       "      <td>DISTRITO CAPITAL</td>\n",
       "    </tr>\n",
       "    <tr>\n",
       "      <th>3</th>\n",
       "      <td>CC1000005260</td>\n",
       "      <td>1353717</td>\n",
       "      <td>Medio</td>\n",
       "      <td>1</td>\n",
       "      <td>30</td>\n",
       "      <td>11/11/1997  12:00:00</td>\n",
       "      <td>1</td>\n",
       "      <td>A</td>\n",
       "      <td>1</td>\n",
       "      <td>SANTAFE</td>\n",
       "      <td>EL TRIUNFO</td>\n",
       "      <td>DISTRITO CAPITAL</td>\n",
       "    </tr>\n",
       "    <tr>\n",
       "      <th>4</th>\n",
       "      <td>CC1000005485</td>\n",
       "      <td>616000</td>\n",
       "      <td>Básico</td>\n",
       "      <td>0</td>\n",
       "      <td>30</td>\n",
       "      <td>11/11/1997  12:00:00</td>\n",
       "      <td>1</td>\n",
       "      <td>A</td>\n",
       "      <td>1</td>\n",
       "      <td>USAQUEN</td>\n",
       "      <td>ACACIAS USAQUEN</td>\n",
       "      <td>DISTRITO CAPITAL</td>\n",
       "    </tr>\n",
       "  </tbody>\n",
       "</table>\n",
       "</div>"
      ],
      "text/plain": [
       "     id_persona  salario segmento  grupo_familiar  edad      fecha_nacimiento  \\\n",
       "0  CC1000004980  1562484    Joven               0    18  11/11/1997  12:00:00   \n",
       "1  CC1000005012  1520139    Joven               0    23  11/11/1997  12:00:00   \n",
       "2  CC1000005204  1562484    Medio               2    30  11/11/1997  12:00:00   \n",
       "3  CC1000005260  1353717    Medio               1    30  11/11/1997  12:00:00   \n",
       "4  CC1000005485   616000   Básico               0    30  11/11/1997  12:00:00   \n",
       "\n",
       "   tipo_aportante categoria tipo_afiliado       localidad           barrio  \\\n",
       "0               1         A             1         KENNEDY         CARVAJAL   \n",
       "1               1         A             1         KENNEDY           TIMIZA   \n",
       "2               1         A             1  CIUDAD BOLIVAR   INDIA CATALINA   \n",
       "3               1         A             1         SANTAFE       EL TRIUNFO   \n",
       "4               1         A             1         USAQUEN  ACACIAS USAQUEN   \n",
       "\n",
       "       departamento  \n",
       "0  DISTRITO CAPITAL  \n",
       "1  DISTRITO CAPITAL  \n",
       "2  DISTRITO CAPITAL  \n",
       "3  DISTRITO CAPITAL  \n",
       "4  DISTRITO CAPITAL  "
      ]
     },
     "execution_count": 151,
     "metadata": {},
     "output_type": "execute_result"
    }
   ],
   "source": [
    "df = df.copy()\n",
    "df = pd.DataFrame(df)\n",
    "patron = r\"([a-zA-Z0-9]+)\"\n",
    "df[\"field_clean\"] = df[\"id_persona\"].str.extract(patron, expand=False)\n",
    "df[\"id_persona\"] = df[\"field_clean\"]\n",
    "df[\"field_clean\"] = df[\"id_persona\"]\n",
    "df = df[\n",
    "    [\n",
    "        \"id_persona\",\n",
    "        \"salario\",\n",
    "        \"segmento\",\n",
    "        \"grupo_familiar\",\n",
    "        \"edad\",\n",
    "        \"fecha_nacimiento\",\n",
    "        \"tipo_aportante\",\n",
    "        \"categoria\",\n",
    "        \"tipo_afiliado\",\n",
    "        \"localidad\",\n",
    "        \"barrio\",\n",
    "        \"departamento\",\n",
    "    ]\n",
    "]\n",
    "df.head()"
   ]
  },
  {
   "cell_type": "markdown",
   "metadata": {},
   "source": [
    "### Manejo de indicadores:"
   ]
  },
  {
   "cell_type": "markdown",
   "metadata": {},
   "source": [
    "Afiliados hay por categoría y segmento poblacional."
   ]
  },
  {
   "cell_type": "code",
   "execution_count": 156,
   "metadata": {},
   "outputs": [
    {
     "name": "stdout",
     "output_type": "stream",
     "text": [
      "Afiliados por categoria y segmento poblacional\n"
     ]
    },
    {
     "data": {
      "text/html": [
       "<div>\n",
       "<style scoped>\n",
       "    .dataframe tbody tr th:only-of-type {\n",
       "        vertical-align: middle;\n",
       "    }\n",
       "\n",
       "    .dataframe tbody tr th {\n",
       "        vertical-align: top;\n",
       "    }\n",
       "\n",
       "    .dataframe thead th {\n",
       "        text-align: right;\n",
       "    }\n",
       "</style>\n",
       "<table border=\"1\" class=\"dataframe\">\n",
       "  <thead>\n",
       "    <tr style=\"text-align: right;\">\n",
       "      <th></th>\n",
       "      <th>categoria</th>\n",
       "      <th>segmento</th>\n",
       "      <th>cantidad</th>\n",
       "    </tr>\n",
       "  </thead>\n",
       "  <tbody>\n",
       "    <tr>\n",
       "      <th>0</th>\n",
       "      <td>A</td>\n",
       "      <td>Básico</td>\n",
       "      <td>80</td>\n",
       "    </tr>\n",
       "    <tr>\n",
       "      <th>1</th>\n",
       "      <td>A</td>\n",
       "      <td>Joven</td>\n",
       "      <td>201</td>\n",
       "    </tr>\n",
       "    <tr>\n",
       "      <th>2</th>\n",
       "      <td>A</td>\n",
       "      <td>Medio</td>\n",
       "      <td>108</td>\n",
       "    </tr>\n",
       "    <tr>\n",
       "      <th>3</th>\n",
       "      <td>B</td>\n",
       "      <td>Joven</td>\n",
       "      <td>102</td>\n",
       "    </tr>\n",
       "    <tr>\n",
       "      <th>4</th>\n",
       "      <td>B</td>\n",
       "      <td>Medio</td>\n",
       "      <td>55</td>\n",
       "    </tr>\n",
       "    <tr>\n",
       "      <th>5</th>\n",
       "      <td>C</td>\n",
       "      <td>Alto</td>\n",
       "      <td>3</td>\n",
       "    </tr>\n",
       "    <tr>\n",
       "      <th>6</th>\n",
       "      <td>C</td>\n",
       "      <td>Joven</td>\n",
       "      <td>5</td>\n",
       "    </tr>\n",
       "    <tr>\n",
       "      <th>7</th>\n",
       "      <td>C</td>\n",
       "      <td>Medio</td>\n",
       "      <td>1</td>\n",
       "    </tr>\n",
       "  </tbody>\n",
       "</table>\n",
       "</div>"
      ],
      "text/plain": [
       "  categoria segmento  cantidad\n",
       "0         A   Básico        80\n",
       "1         A    Joven       201\n",
       "2         A    Medio       108\n",
       "3         B    Joven       102\n",
       "4         B    Medio        55\n",
       "5         C     Alto         3\n",
       "6         C    Joven         5\n",
       "7         C    Medio         1"
      ]
     },
     "metadata": {},
     "output_type": "display_data"
    }
   ],
   "source": [
    "afiliados_por_categoria_segmento = df.groupby([\"categoria\", \"segmento\"]).size().reset_index(name=\"cantidad\")\n",
    "print(\"Afiliados por categoria y segmento poblacional\")\n",
    "display(afiliados_por_categoria_segmento)"
   ]
  },
  {
   "cell_type": "markdown",
   "metadata": {},
   "source": [
    "Conteo de afiliados por categoria barrrio/localidad"
   ]
  },
  {
   "cell_type": "code",
   "execution_count": 157,
   "metadata": {},
   "outputs": [
    {
     "name": "stdout",
     "output_type": "stream",
     "text": [
      "Afiliados por categoria barrio y localidad\n"
     ]
    },
    {
     "data": {
      "text/html": [
       "<div>\n",
       "<style scoped>\n",
       "    .dataframe tbody tr th:only-of-type {\n",
       "        vertical-align: middle;\n",
       "    }\n",
       "\n",
       "    .dataframe tbody tr th {\n",
       "        vertical-align: top;\n",
       "    }\n",
       "\n",
       "    .dataframe thead th {\n",
       "        text-align: right;\n",
       "    }\n",
       "</style>\n",
       "<table border=\"1\" class=\"dataframe\">\n",
       "  <thead>\n",
       "    <tr style=\"text-align: right;\">\n",
       "      <th></th>\n",
       "      <th>categoria</th>\n",
       "      <th>barrio</th>\n",
       "      <th>localidad</th>\n",
       "      <th>cantidad</th>\n",
       "    </tr>\n",
       "  </thead>\n",
       "  <tbody>\n",
       "    <tr>\n",
       "      <th>0</th>\n",
       "      <td>A</td>\n",
       "      <td>A.S.D.</td>\n",
       "      <td>CIUDAD BOLIVAR</td>\n",
       "      <td>1</td>\n",
       "    </tr>\n",
       "    <tr>\n",
       "      <th>1</th>\n",
       "      <td>A</td>\n",
       "      <td>A.S.D.</td>\n",
       "      <td>SUBA</td>\n",
       "      <td>2</td>\n",
       "    </tr>\n",
       "    <tr>\n",
       "      <th>2</th>\n",
       "      <td>A</td>\n",
       "      <td>ACACIAS USAQUEN</td>\n",
       "      <td>USAQUEN</td>\n",
       "      <td>1</td>\n",
       "    </tr>\n",
       "    <tr>\n",
       "      <th>3</th>\n",
       "      <td>A</td>\n",
       "      <td>ALCALA</td>\n",
       "      <td>PUENTE ARANDA</td>\n",
       "      <td>1</td>\n",
       "    </tr>\n",
       "    <tr>\n",
       "      <th>4</th>\n",
       "      <td>A</td>\n",
       "      <td>ALFONSO LOPEZ</td>\n",
       "      <td>TEUSAQUILLO</td>\n",
       "      <td>1</td>\n",
       "    </tr>\n",
       "    <tr>\n",
       "      <th>...</th>\n",
       "      <td>...</td>\n",
       "      <td>...</td>\n",
       "      <td>...</td>\n",
       "      <td>...</td>\n",
       "    </tr>\n",
       "    <tr>\n",
       "      <th>420</th>\n",
       "      <td>C</td>\n",
       "      <td>LOS ROSALES</td>\n",
       "      <td>CHAPINERO</td>\n",
       "      <td>1</td>\n",
       "    </tr>\n",
       "    <tr>\n",
       "      <th>421</th>\n",
       "      <td>C</td>\n",
       "      <td>MARANTA III SECTOR</td>\n",
       "      <td>USAQUEN</td>\n",
       "      <td>1</td>\n",
       "    </tr>\n",
       "    <tr>\n",
       "      <th>422</th>\n",
       "      <td>C</td>\n",
       "      <td>SAN ANTONIO DE PADUA</td>\n",
       "      <td>ANTONIO NARIÑO</td>\n",
       "      <td>1</td>\n",
       "    </tr>\n",
       "    <tr>\n",
       "      <th>423</th>\n",
       "      <td>C</td>\n",
       "      <td>SANTA TERESA</td>\n",
       "      <td>USAQUEN</td>\n",
       "      <td>1</td>\n",
       "    </tr>\n",
       "    <tr>\n",
       "      <th>424</th>\n",
       "      <td>C</td>\n",
       "      <td>TABORA</td>\n",
       "      <td>ENGATIVA</td>\n",
       "      <td>1</td>\n",
       "    </tr>\n",
       "  </tbody>\n",
       "</table>\n",
       "<p>425 rows × 4 columns</p>\n",
       "</div>"
      ],
      "text/plain": [
       "    categoria                barrio       localidad  cantidad\n",
       "0           A                A.S.D.  CIUDAD BOLIVAR         1\n",
       "1           A                A.S.D.            SUBA         2\n",
       "2           A       ACACIAS USAQUEN         USAQUEN         1\n",
       "3           A                ALCALA   PUENTE ARANDA         1\n",
       "4           A         ALFONSO LOPEZ     TEUSAQUILLO         1\n",
       "..        ...                   ...             ...       ...\n",
       "420         C           LOS ROSALES       CHAPINERO         1\n",
       "421         C    MARANTA III SECTOR         USAQUEN         1\n",
       "422         C  SAN ANTONIO DE PADUA  ANTONIO NARIÑO         1\n",
       "423         C          SANTA TERESA         USAQUEN         1\n",
       "424         C                TABORA        ENGATIVA         1\n",
       "\n",
       "[425 rows x 4 columns]"
      ]
     },
     "metadata": {},
     "output_type": "display_data"
    }
   ],
   "source": [
    "afiliados_por_categoria_localidad = df.groupby([\"categoria\",\"barrio\", \"localidad\"]).size().reset_index(name=\"cantidad\")\n",
    "print(\"Afiliados por categoria barrio y localidad\")\n",
    "display(afiliados_por_categoria_localidad)"
   ]
  },
  {
   "cell_type": "markdown",
   "metadata": {},
   "source": [
    "Generar visualización por segmento poblacional, localidad y categoría"
   ]
  },
  {
   "cell_type": "code",
   "execution_count": 158,
   "metadata": {},
   "outputs": [],
   "source": [
    "import matplotlib.pyplot as plt\n",
    "import seaborn as sns"
   ]
  },
  {
   "cell_type": "code",
   "execution_count": 161,
   "metadata": {},
   "outputs": [
    {
     "data": {
      "image/png": "[encoded data removed]",
      "text/plain": [
       "<Figure size 1000x500 with 1 Axes>"
      ]
     },
     "metadata": {},
     "output_type": "display_data"
    }
   ],
   "source": [
    "plt.figure(figsize=(10, 5))\n",
    "sns.barplot(x=\"categoria\", y=\"cantidad\", hue=\"segmento\", data=afiliados_por_categoria_segmento)\n",
    "plt.title(\"Afiliados por categoria y segmento poblacional\")\n",
    "plt.xlabel(\"categoria\")\n",
    "plt.ylabel(\"cantidad\")\n",
    "plt.show()"
   ]
  }
 ],
 "metadata": {
  "kernelspec": {
   "display_name": "env",
   "language": "python",
   "name": "python3"
  },
  "language_info": {
   "codemirror_mode": {
    "name": "ipython",
    "version": 3
   },
   "file_extension": ".py",
   "mimetype": "text/x-python",
   "name": "python",
   "nbconvert_exporter": "python",
   "pygments_lexer": "ipython3",
   "version": "3.10.12"
  }
 },
 "nbformat": 4,
 "nbformat_minor": 2
}
